{
  "nbformat": 4,
  "nbformat_minor": 0,
  "metadata": {
    "kernelspec": {
      "display_name": "Python 3",
      "language": "python",
      "name": "python3"
    },
    "language_info": {
      "codemirror_mode": {
        "name": "ipython",
        "version": 3
      },
      "file_extension": ".py",
      "mimetype": "text/x-python",
      "name": "python",
      "nbconvert_exporter": "python",
      "pygments_lexer": "ipython3",
      "version": "3.7.1"
    },
    "colab": {
      "name": "Keras_Tutorial.ipynb",
      "provenance": [],
      "collapsed_sections": [],
      "include_colab_link": true
    }
  },
  "cells": [
    {
      "cell_type": "markdown",
      "metadata": {
        "id": "view-in-github",
        "colab_type": "text"
      },
      "source": [
        "<a href=\"https://colab.research.google.com/github/hamedmirsadeghi/DeepLearning/blob/main/Keras_Tutorial.ipynb\" target=\"_parent\"><img src=\"https://colab.research.google.com/assets/colab-badge.svg\" alt=\"Open In Colab\"/></a>"
      ]
    },
    {
      "cell_type": "code",
      "metadata": {
        "id": "V6Ie7Skbi6GD",
        "colab": {
          "base_uri": "https://localhost:8080/"
        },
        "outputId": "c89269aa-e48b-48cc-8ff5-e00b93880d37"
      },
      "source": [
        "import tensorflow as tf\n",
        "print(tf.__version__)"
      ],
      "execution_count": 1,
      "outputs": [
        {
          "output_type": "stream",
          "text": [
            "2.5.0\n"
          ],
          "name": "stdout"
        }
      ]
    },
    {
      "cell_type": "markdown",
      "metadata": {
        "id": "swG-3GAfi6GH"
      },
      "source": [
        "# The Sequential model API"
      ]
    },
    {
      "cell_type": "markdown",
      "metadata": {
        "id": "i1bw_YlVi6GH"
      },
      "source": [
        " ## Coding tutorials\n",
        " #### [1. Building a Sequential model](#coding_tutorial_1)\n",
        " #### [2. Convolutional and pooling layers](#coding_tutorial_2)\n",
        " #### [3. The compile method](#coding_tutorial_3)\n",
        " #### [4. The fit method](#coding_tutorial_4)\n",
        " #### [5. The evaluate and predict methods](#coding_tutorial_5)"
      ]
    },
    {
      "cell_type": "markdown",
      "metadata": {
        "id": "oH3UaV6Ti6GH"
      },
      "source": [
        "***\n",
        "<a id=\"coding_tutorial_1\"></a>\n",
        "## Building a Sequential model"
      ]
    },
    {
      "cell_type": "code",
      "metadata": {
        "id": "dyOYqhT2i6GI"
      },
      "source": [
        "from tensorflow.keras.models import Sequential\n",
        "from tensorflow.keras.layers import Dense, Flatten, Softmax"
      ],
      "execution_count": 2,
      "outputs": []
    },
    {
      "cell_type": "markdown",
      "metadata": {
        "id": "SzYfBjiTi6GI"
      },
      "source": [
        "#### Build a feedforward neural network model"
      ]
    },
    {
      "cell_type": "code",
      "metadata": {
        "id": "zqUQv2Msi6GI"
      },
      "source": [
        "# Build the Sequential feedforward neural network model\n",
        "\n"
      ],
      "execution_count": 3,
      "outputs": []
    },
    {
      "cell_type": "code",
      "metadata": {
        "id": "LOnTO8fsi6GJ"
      },
      "source": [
        "# Print the model summary\n",
        "\n"
      ],
      "execution_count": 4,
      "outputs": []
    },
    {
      "cell_type": "markdown",
      "metadata": {
        "id": "ZhMCQ0J7i6GJ"
      },
      "source": [
        "***\n",
        "<a id=\"coding_tutorial_2\"></a>\n",
        "## Convolutional and pooling layers"
      ]
    },
    {
      "cell_type": "code",
      "metadata": {
        "id": "r0e0th0-i6GK"
      },
      "source": [
        "from tensorflow.keras.models import Sequential\n",
        "from tensorflow.keras.layers import Dense, Flatten, Conv2D, MaxPooling2D, Softmax, Lambda\n",
        "import keras.backend as K"
      ],
      "execution_count": 206,
      "outputs": []
    },
    {
      "cell_type": "markdown",
      "metadata": {
        "id": "nY101MNZi6GK"
      },
      "source": [
        "#### Build a convolutional neural network model"
      ]
    },
    {
      "cell_type": "code",
      "metadata": {
        "id": "Afp5Qil5i6GK",
        "colab": {
          "base_uri": "https://localhost:8080/"
        },
        "outputId": "3fe6e33d-a503-43be-d08a-33bc5dcaf26a"
      },
      "source": [
        "# Build the Sequential convolutional neural network model\n",
        "model = Sequential()\n",
        "model.add( Conv2D( filters= 16, kernel_size=3,activation='relu', input_shape = (28,28,1)) )\n",
        "print(model.output_shape)\n",
        "model.add(MaxPooling2D(pool_size=(3,3)) )\n",
        "print(model.output_shape)\n",
        "model.add(Flatten( ))\n",
        "model.add(Dense( 10, activation='softmax'))\n",
        "print(model.output_shape)\n",
        "\n"
      ],
      "execution_count": 207,
      "outputs": [
        {
          "output_type": "stream",
          "text": [
            "(None, 26, 26, 16)\n",
            "(None, 8, 8, 16)\n",
            "(None, 10)\n"
          ],
          "name": "stdout"
        }
      ]
    },
    {
      "cell_type": "code",
      "metadata": {
        "id": "ccsL_6IEi6GL",
        "colab": {
          "base_uri": "https://localhost:8080/"
        },
        "outputId": "7cfef812-4eee-4fd3-98cb-75e1df30a0d0"
      },
      "source": [
        "\n",
        "# Print the model summary\n",
        "print(model.summary())\n"
      ],
      "execution_count": 208,
      "outputs": [
        {
          "output_type": "stream",
          "text": [
            "Model: \"sequential_23\"\n",
            "_________________________________________________________________\n",
            "Layer (type)                 Output Shape              Param #   \n",
            "=================================================================\n",
            "conv2d_23 (Conv2D)           (None, 26, 26, 16)        160       \n",
            "_________________________________________________________________\n",
            "max_pooling2d_23 (MaxPooling (None, 8, 8, 16)          0         \n",
            "_________________________________________________________________\n",
            "flatten_23 (Flatten)         (None, 1024)              0         \n",
            "_________________________________________________________________\n",
            "dense_26 (Dense)             (None, 10)                10250     \n",
            "=================================================================\n",
            "Total params: 10,410\n",
            "Trainable params: 10,410\n",
            "Non-trainable params: 0\n",
            "_________________________________________________________________\n",
            "None\n"
          ],
          "name": "stdout"
        }
      ]
    },
    {
      "cell_type": "markdown",
      "metadata": {
        "id": "QsFd6D4Mi6GL"
      },
      "source": [
        "***\n",
        "<a id=\"coding_tutorial_3\"></a>\n",
        "## The compile method"
      ]
    },
    {
      "cell_type": "markdown",
      "metadata": {
        "id": "NDnqIxeOi6GL"
      },
      "source": [
        "#### Compile the model"
      ]
    },
    {
      "cell_type": "code",
      "metadata": {
        "id": "tnFoQoXci6GL"
      },
      "source": [
        "# Define the model optimizer, loss function and metrics\n",
        "# model.compile(optimizer='adam' , # sgd , rmspro\n",
        "#               loss='sparse_categorical_crossentropy', \n",
        "#               metrics=['accuracy']) # mae, mpe,\n",
        "\n",
        "model.compile(optimizer= tf.keras.optimizers.Adam(learning_rate = 0.005),\n",
        "              loss = tf.keras.losses.SparseCategoricalCrossentropy(),\n",
        "              metrics = [tf.keras.metrics.sparse_categorical_accuracy,\n",
        "                         tf.keras.metrics.sparse_top_k_categorical_accuracy,\n",
        "                         tf.keras.metrics.categorical_accuracy]\n",
        "                         )\n",
        "\n",
        "# model.compile(\n",
        "#             optimizer=tf.keras.optimizers.Adadelta(),\n",
        "#             loss='sparse_categorical_crossentropy',\n",
        "#             metrics=['sparse_categorical_accuracy'])"
      ],
      "execution_count": 262,
      "outputs": []
    },
    {
      "cell_type": "code",
      "metadata": {
        "id": "HQnC0pnhi6GM",
        "colab": {
          "base_uri": "https://localhost:8080/"
        },
        "outputId": "656302db-281d-4fcf-f7af-f454ffc80a42"
      },
      "source": [
        "# Print the resulting model attributes\n",
        "print(model.loss)\n",
        "print(model.optimizer)\n",
        "print(model.metrics)\n"
      ],
      "execution_count": 263,
      "outputs": [
        {
          "output_type": "stream",
          "text": [
            "<tensorflow.python.keras.losses.SparseCategoricalCrossentropy object at 0x7f70ea43d5d0>\n",
            "<tensorflow.python.keras.optimizer_v2.adam.Adam object at 0x7f70ea441fd0>\n",
            "[]\n"
          ],
          "name": "stdout"
        }
      ]
    },
    {
      "cell_type": "markdown",
      "metadata": {
        "id": "RkJA-gr5i6GM"
      },
      "source": [
        "***\n",
        "<a id=\"coding_tutorial_4\"></a>\n",
        "## The fit method"
      ]
    },
    {
      "cell_type": "code",
      "metadata": {
        "id": "aIwGm81Pi6GM"
      },
      "source": [
        "from tensorflow.keras.preprocessing import image\n",
        "import matplotlib.pyplot as plt\n",
        "import numpy as np\n",
        "import pandas as pd"
      ],
      "execution_count": 264,
      "outputs": []
    },
    {
      "cell_type": "markdown",
      "metadata": {
        "id": "OSVTNZnai6GM"
      },
      "source": [
        "#### Load the data"
      ]
    },
    {
      "cell_type": "code",
      "metadata": {
        "id": "9eSqzq_di6GM"
      },
      "source": [
        "# Load the Fashion-MNIST dataset\n",
        "\n",
        "fashion_mnist_data = tf.keras.datasets.fashion_mnist\n",
        "(train_images, train_labels), (test_images, test_labels) = fashion_mnist_data.load_data()"
      ],
      "execution_count": 265,
      "outputs": []
    },
    {
      "cell_type": "code",
      "metadata": {
        "id": "e6evpBg-i6GN",
        "colab": {
          "base_uri": "https://localhost:8080/"
        },
        "outputId": "56738bd1-0956-4326-a6da-75194591651a"
      },
      "source": [
        "# Print the shape of the training data\n",
        "print(train_images.shape)\n",
        "print(train_labels.shape)\n"
      ],
      "execution_count": 266,
      "outputs": [
        {
          "output_type": "stream",
          "text": [
            "(60000, 28, 28)\n",
            "(60000,)\n"
          ],
          "name": "stdout"
        }
      ]
    },
    {
      "cell_type": "code",
      "metadata": {
        "id": "APh-zv4Ji6GN",
        "colab": {
          "base_uri": "https://localhost:8080/"
        },
        "outputId": "2246e17c-534d-40c2-d1b8-a77c2400a0ca"
      },
      "source": [
        "# Define the labels\n",
        "\n",
        "labels = [\n",
        "    'T-shirt/top',\n",
        "    'Trouser',\n",
        "    'Pullover',\n",
        "    'Dress',\n",
        "    'Coat',\n",
        "    'Sandal',\n",
        "    'Shirt',\n",
        "    'Sneaker',\n",
        "    'Bag',\n",
        "    'Ankle boot'\n",
        "]\n",
        "\n",
        "print(train_labels[0])"
      ],
      "execution_count": 267,
      "outputs": [
        {
          "output_type": "stream",
          "text": [
            "9\n"
          ],
          "name": "stdout"
        }
      ]
    },
    {
      "cell_type": "code",
      "metadata": {
        "id": "fVvVeQavi6GN"
      },
      "source": [
        "# Rescale the image values so that they lie in between 0 and 1.\n",
        "train_images= train_images/255\n",
        "test_images = test_images/255\n"
      ],
      "execution_count": 268,
      "outputs": []
    },
    {
      "cell_type": "code",
      "metadata": {
        "id": "zcY8pwTSi6GN",
        "colab": {
          "base_uri": "https://localhost:8080/",
          "height": 282
        },
        "outputId": "7c453678-3154-4824-acf1-76d89badafd9"
      },
      "source": [
        "# Display one of the images\n",
        "i=0\n",
        "img = train_images[i,:,:]\n",
        "plt.imshow(img)\n",
        "plt.show()\n",
        "print(f\"label: {labels[train_labels[i]]} \")\n"
      ],
      "execution_count": 269,
      "outputs": [
        {
          "output_type": "display_data",
          "data": {
            "image/png": "[encoded data removed]",
            "text/plain": [
              "<Figure size 432x288 with 1 Axes>"
            ]
          },
          "metadata": {
            "tags": [],
            "needs_background": "light"
          }
        },
        {
          "output_type": "stream",
          "text": [
            "label: Ankle boot \n"
          ],
          "name": "stdout"
        }
      ]
    },
    {
      "cell_type": "markdown",
      "metadata": {
        "id": "dggCYLnhi6GO"
      },
      "source": [
        "#### Fit the model"
      ]
    },
    {
      "cell_type": "code",
      "metadata": {
        "id": "KOPeiPNQi6GO",
        "colab": {
          "base_uri": "https://localhost:8080/"
        },
        "outputId": "3021c606-98f4-434a-f97f-4163aec0ed7c"
      },
      "source": [
        "# Fit the model\n",
        "history = model.fit(train_images[...,np.newaxis], train_labels, epochs = 2, batch_size=256, verbose =2 )\n"
      ],
      "execution_count": 271,
      "outputs": [
        {
          "output_type": "stream",
          "text": [
            "Epoch 1/2\n",
            "235/235 [==============================] - 14s 61ms/step - loss: 0.3026 - sparse_categorical_accuracy: 0.8921 - sparse_top_k_categorical_accuracy: 0.9984 - categorical_accuracy: 0.1032\n",
            "Epoch 2/2\n",
            "235/235 [==============================] - 14s 60ms/step - loss: 0.2913 - sparse_categorical_accuracy: 0.8956 - sparse_top_k_categorical_accuracy: 0.9985 - categorical_accuracy: 0.1027\n"
          ],
          "name": "stdout"
        }
      ]
    },
    {
      "cell_type": "markdown",
      "metadata": {
        "id": "yqpYlQMai6GO"
      },
      "source": [
        "#### Plot training history"
      ]
    },
    {
      "cell_type": "code",
      "metadata": {
        "id": "daxKKylOi6GO",
        "colab": {
          "base_uri": "https://localhost:8080/",
          "height": 112
        },
        "outputId": "c5453c4b-de46-40be-f683-20a541f4edfd"
      },
      "source": [
        "# Load the history into a pandas Dataframe\n",
        "df= pd.DataFrame(history.history)\n",
        "df.head()\n"
      ],
      "execution_count": 272,
      "outputs": [
        {
          "output_type": "execute_result",
          "data": {
            "text/html": [
              "<div>\n",
              "<style scoped>\n",
              "    .dataframe tbody tr th:only-of-type {\n",
              "        vertical-align: middle;\n",
              "    }\n",
              "\n",
              "    .dataframe tbody tr th {\n",
              "        vertical-align: top;\n",
              "    }\n",
              "\n",
              "    .dataframe thead th {\n",
              "        text-align: right;\n",
              "    }\n",
              "</style>\n",
              "<table border=\"1\" class=\"dataframe\">\n",
              "  <thead>\n",
              "    <tr style=\"text-align: right;\">\n",
              "      <th></th>\n",
              "      <th>loss</th>\n",
              "      <th>sparse_categorical_accuracy</th>\n",
              "      <th>sparse_top_k_categorical_accuracy</th>\n",
              "      <th>categorical_accuracy</th>\n",
              "    </tr>\n",
              "  </thead>\n",
              "  <tbody>\n",
              "    <tr>\n",
              "      <th>0</th>\n",
              "      <td>0.302629</td>\n",
              "      <td>0.892150</td>\n",
              "      <td>0.9984</td>\n",
              "      <td>0.103233</td>\n",
              "    </tr>\n",
              "    <tr>\n",
              "      <th>1</th>\n",
              "      <td>0.291263</td>\n",
              "      <td>0.895583</td>\n",
              "      <td>0.9985</td>\n",
              "      <td>0.102700</td>\n",
              "    </tr>\n",
              "  </tbody>\n",
              "</table>\n",
              "</div>"
            ],
            "text/plain": [
              "       loss  ...  categorical_accuracy\n",
              "0  0.302629  ...              0.103233\n",
              "1  0.291263  ...              0.102700\n",
              "\n",
              "[2 rows x 4 columns]"
            ]
          },
          "metadata": {
            "tags": []
          },
          "execution_count": 272
        }
      ]
    },
    {
      "cell_type": "code",
      "metadata": {
        "id": "OJTlNa1pi6GP",
        "colab": {
          "base_uri": "https://localhost:8080/",
          "height": 295
        },
        "outputId": "6e792774-473a-4e3f-d34d-8e491fee2081"
      },
      "source": [
        "# Make a plot for the loss\n",
        "loss_plot = df.plot(y='loss', title = \"Loss vs. Epochs\", legend = False);\n",
        "loss_plot.set(xlabel='Epochs', ylabel ='Loss');\n"
      ],
      "execution_count": 275,
      "outputs": [
        {
          "output_type": "display_data",
          "data": {
            "image/png": "[encoded data removed]",
            "text/plain": [
              "<Figure size 432x288 with 1 Axes>"
            ]
          },
          "metadata": {
            "tags": [],
            "needs_background": "light"
          }
        }
      ]
    },
    {
      "cell_type": "code",
      "metadata": {
        "id": "ub1Xe1Oki6GP",
        "colab": {
          "base_uri": "https://localhost:8080/",
          "height": 265
        },
        "outputId": "3a6dd215-2ede-4ea6-d9f9-d42a92dd61f4"
      },
      "source": [
        "# Make a plot for the accuracy\n",
        "df.plot(y='sparse_categorical_accuracy');\n"
      ],
      "execution_count": 277,
      "outputs": [
        {
          "output_type": "display_data",
          "data": {
            "image/png": "[encoded data removed]",
            "text/plain": [
              "<Figure size 432x288 with 1 Axes>"
            ]
          },
          "metadata": {
            "tags": [],
            "needs_background": "light"
          }
        }
      ]
    },
    {
      "cell_type": "code",
      "metadata": {
        "id": "nhefWhQIi6GQ"
      },
      "source": [
        "# Make a plot for the additional metric\n",
        "\n"
      ],
      "execution_count": null,
      "outputs": []
    },
    {
      "cell_type": "markdown",
      "metadata": {
        "id": "Vq2AbvpMi6GQ"
      },
      "source": [
        "***\n",
        "<a id=\"coding_tutorial_5\"></a>\n",
        "## The evaluate and predict methods"
      ]
    },
    {
      "cell_type": "code",
      "metadata": {
        "id": "UuLFkBzNi6GQ"
      },
      "source": [
        "import matplotlib.pyplot as plt\n",
        "import numpy as np"
      ],
      "execution_count": 278,
      "outputs": []
    },
    {
      "cell_type": "markdown",
      "metadata": {
        "id": "_xwVfHIsi6GR"
      },
      "source": [
        "#### Evaluate the model on the test set"
      ]
    },
    {
      "cell_type": "code",
      "metadata": {
        "id": "CdNyUqnFi6GR",
        "colab": {
          "base_uri": "https://localhost:8080/"
        },
        "outputId": "26d4e0a3-3a1c-475e-8530-f3b1f3365200"
      },
      "source": [
        "# Evaluate the model\n",
        "model.evaluate(test_images[...,np.newaxis], test_labels )\n"
      ],
      "execution_count": 280,
      "outputs": [
        {
          "output_type": "stream",
          "text": [
            "313/313 [==============================] - 2s 6ms/step - loss: 0.3254 - sparse_categorical_accuracy: 0.8846 - sparse_top_k_categorical_accuracy: 0.9978 - categorical_accuracy: 0.1085\n"
          ],
          "name": "stdout"
        },
        {
          "output_type": "execute_result",
          "data": {
            "text/plain": [
              "[0.3253880441188812,\n",
              " 0.8845999836921692,\n",
              " 0.9977999925613403,\n",
              " 0.10849999636411667]"
            ]
          },
          "metadata": {
            "tags": []
          },
          "execution_count": 280
        }
      ]
    },
    {
      "cell_type": "markdown",
      "metadata": {
        "id": "Kk_tV9nhi6GR"
      },
      "source": [
        "#### Make predictions from the model"
      ]
    },
    {
      "cell_type": "code",
      "metadata": {
        "id": "gLeetfoZi6GS",
        "colab": {
          "base_uri": "https://localhost:8080/",
          "height": 282
        },
        "outputId": "1d2eb13d-5b0a-4cd7-8fbd-9073bd5af6dd"
      },
      "source": [
        "# Choose a random test image\n",
        "\n",
        "random_inx = np.random.choice(test_images.shape[0])\n",
        "\n",
        "test_image = test_images[random_inx]\n",
        "plt.imshow(test_image)\n",
        "plt.show()\n",
        "print(f\"Label: {labels[test_labels[random_inx]]}\")"
      ],
      "execution_count": 281,
      "outputs": [
        {
          "output_type": "display_data",
          "data": {
            "image/png": "[encoded data removed]",
            "text/plain": [
              "<Figure size 432x288 with 1 Axes>"
            ]
          },
          "metadata": {
            "tags": [],
            "needs_background": "light"
          }
        },
        {
          "output_type": "stream",
          "text": [
            "Label: T-shirt/top\n"
          ],
          "name": "stdout"
        }
      ]
    },
    {
      "cell_type": "code",
      "metadata": {
        "colab": {
          "base_uri": "https://localhost:8080/"
        },
        "id": "X8wup8k4ngof",
        "outputId": "64af050b-beec-4d1b-9e2b-31ee54e1ec37"
      },
      "source": [
        "test_image[...,np.newaxis].shape"
      ],
      "execution_count": 284,
      "outputs": [
        {
          "output_type": "execute_result",
          "data": {
            "text/plain": [
              "(28, 28, 1)"
            ]
          },
          "metadata": {
            "tags": []
          },
          "execution_count": 284
        }
      ]
    },
    {
      "cell_type": "code",
      "metadata": {
        "id": "2tr3y-9mi6GS",
        "colab": {
          "base_uri": "https://localhost:8080/",
          "height": 35
        },
        "outputId": "d9a74a9e-9de5-499b-88f0-3a2726236746"
      },
      "source": [
        "# Get the model predictions\n",
        "y_pred = model.predict(test_image[np.newaxis,...,np.newaxis])\n",
        "labels[np.argmax(y_pred)]"
      ],
      "execution_count": 288,
      "outputs": [
        {
          "output_type": "execute_result",
          "data": {
            "application/vnd.google.colaboratory.intrinsic+json": {
              "type": "string"
            },
            "text/plain": [
              "'T-shirt/top'"
            ]
          },
          "metadata": {
            "tags": []
          },
          "execution_count": 288
        }
      ]
    }
  ]
}