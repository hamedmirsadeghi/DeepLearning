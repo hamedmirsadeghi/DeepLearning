{
  "nbformat": 4,
  "nbformat_minor": 0,
  "metadata": {
    "kernelspec": {
      "display_name": "Python 3",
      "language": "python",
      "name": "python3"
    },
    "language_info": {
      "codemirror_mode": {
        "name": "ipython",
        "version": 3
      },
      "file_extension": ".py",
      "mimetype": "text/x-python",
      "name": "python",
      "nbconvert_exporter": "python",
      "pygments_lexer": "ipython3",
      "version": "3.7.1"
    },
    "colab": {
      "name": "Validation_regularisation_callbacks.ipynb",
      "provenance": [],
      "collapsed_sections": [],
      "include_colab_link": true
    }
  },
  "cells": [
    {
      "cell_type": "markdown",
      "metadata": {
        "id": "view-in-github",
        "colab_type": "text"
      },
      "source": [
        "<a href=\"https://colab.research.google.com/github/hamedmirsadeghi/DeepLearning/blob/main/Validation_regularisation_callbacks.ipynb\" target=\"_parent\"><img src=\"https://colab.research.google.com/assets/colab-badge.svg\" alt=\"Open In Colab\"/></a>"
      ]
    },
    {
      "cell_type": "code",
      "metadata": {
        "scrolled": true,
        "id": "Gb92duolicVW",
        "colab": {
          "base_uri": "https://localhost:8080/"
        },
        "outputId": "1a095690-4cb3-4e91-ea9a-0cdb83b7f806"
      },
      "source": [
        "import tensorflow as tf\n",
        "print(tf.__version__)"
      ],
      "execution_count": 122,
      "outputs": [
        {
          "output_type": "stream",
          "text": [
            "2.5.0\n"
          ],
          "name": "stdout"
        }
      ]
    },
    {
      "cell_type": "markdown",
      "metadata": {
        "id": "IWblniEqicVb"
      },
      "source": [
        "# Validation, regularisation and callbacks"
      ]
    },
    {
      "cell_type": "markdown",
      "metadata": {
        "id": "hWB_0C-wicVc"
      },
      "source": [
        " ## Coding tutorials\n",
        " #### [1. Validation sets](#coding_tutorial_1)\n",
        " #### [2. Model regularisation](#coding_tutorial_2)\n",
        " #### [3. Introduction to callbacks](#coding_tutorial_3)\n",
        " #### [4. Early stopping / patience](#coding_tutorial_4)"
      ]
    },
    {
      "cell_type": "markdown",
      "metadata": {
        "id": "dTvTkY0TicVd"
      },
      "source": [
        "***\n",
        "<a id=\"coding_tutorial_1\"></a>\n",
        "## Validation sets"
      ]
    },
    {
      "cell_type": "markdown",
      "metadata": {
        "id": "fiPFbLfBicVe"
      },
      "source": [
        "#### Load the data"
      ]
    },
    {
      "cell_type": "code",
      "metadata": {
        "id": "Zm4V0WtSicVf",
        "colab": {
          "base_uri": "https://localhost:8080/"
        },
        "outputId": "9e6e1816-0b13-4a52-bf58-b17bb4fc3321"
      },
      "source": [
        "# Load the diabetes dataset\n",
        "from sklearn.datasets import load_diabetes\n",
        "\n",
        "diabetes_dataset = load_diabetes()\n",
        "print(diabetes_dataset[\"DESCR\"])\n"
      ],
      "execution_count": 123,
      "outputs": [
        {
          "output_type": "stream",
          "text": [
            ".. _diabetes_dataset:\n",
            "\n",
            "Diabetes dataset\n",
            "----------------\n",
            "\n",
            "Ten baseline variables, age, sex, body mass index, average blood\n",
            "pressure, and six blood serum measurements were obtained for each of n =\n",
            "442 diabetes patients, as well as the response of interest, a\n",
            "quantitative measure of disease progression one year after baseline.\n",
            "\n",
            "**Data Set Characteristics:**\n",
            "\n",
            "  :Number of Instances: 442\n",
            "\n",
            "  :Number of Attributes: First 10 columns are numeric predictive values\n",
            "\n",
            "  :Target: Column 11 is a quantitative measure of disease progression one year after baseline\n",
            "\n",
            "  :Attribute Information:\n",
            "      - Age\n",
            "      - Sex\n",
            "      - Body mass index\n",
            "      - Average blood pressure\n",
            "      - S1\n",
            "      - S2\n",
            "      - S3\n",
            "      - S4\n",
            "      - S5\n",
            "      - S6\n",
            "\n",
            "Note: Each of these 10 feature variables have been mean centered and scaled by the standard deviation times `n_samples` (i.e. the sum of squares of each column totals 1).\n",
            "\n",
            "Source URL:\n",
            "https://www4.stat.ncsu.edu/~boos/var.select/diabetes.html\n",
            "\n",
            "For more information see:\n",
            "Bradley Efron, Trevor Hastie, Iain Johnstone and Robert Tibshirani (2004) \"Least Angle Regression,\" Annals of Statistics (with discussion), 407-499.\n",
            "(https://web.stanford.edu/~hastie/Papers/LARS/LeastAngle_2002.pdf)\n"
          ],
          "name": "stdout"
        }
      ]
    },
    {
      "cell_type": "code",
      "metadata": {
        "id": "vPRLm7idicVf",
        "colab": {
          "base_uri": "https://localhost:8080/"
        },
        "outputId": "ab03a1c4-03db-46ea-ed21-1e165e78145a"
      },
      "source": [
        "# Save the input and target variables\n",
        "print(diabetes_dataset.keys())\n",
        "data = diabetes_dataset['data']\n",
        "targets = diabetes_dataset['target']"
      ],
      "execution_count": 124,
      "outputs": [
        {
          "output_type": "stream",
          "text": [
            "dict_keys(['data', 'target', 'DESCR', 'feature_names', 'data_filename', 'target_filename'])\n"
          ],
          "name": "stdout"
        }
      ]
    },
    {
      "cell_type": "code",
      "metadata": {
        "id": "ehN2nVvYrK1X"
      },
      "source": [
        ""
      ],
      "execution_count": 124,
      "outputs": []
    },
    {
      "cell_type": "code",
      "metadata": {
        "id": "gYGUQziWicVg"
      },
      "source": [
        "# Normalise the target data (this will make clearer training curves)\n",
        "targets =( targets - targets.mean() ) / targets.std()\n"
      ],
      "execution_count": 125,
      "outputs": []
    },
    {
      "cell_type": "code",
      "metadata": {
        "id": "MjIPu_j7icVh",
        "colab": {
          "base_uri": "https://localhost:8080/"
        },
        "outputId": "5d3c22a5-2573-42d7-d515-35ae42ccceed"
      },
      "source": [
        "# Split the data into train and test sets\n",
        "from sklearn.model_selection import train_test_split\n",
        "\n",
        "train_data, test_data, train_targets, test_targets = train_test_split(data, targets, test_size = 0.1)\n",
        "\n",
        "print(train_data.shape, test_data.shape, train_targets.shape, test_targets.shape)\n"
      ],
      "execution_count": 126,
      "outputs": [
        {
          "output_type": "stream",
          "text": [
            "(397, 10) (45, 10) (397,) (45,)\n"
          ],
          "name": "stdout"
        }
      ]
    },
    {
      "cell_type": "markdown",
      "metadata": {
        "id": "5RSyzn4FicVh"
      },
      "source": [
        "#### Train a feedforward neural network model"
      ]
    },
    {
      "cell_type": "code",
      "metadata": {
        "id": "mLYlOCaoicVh"
      },
      "source": [
        "# Build the model\n",
        "from tensorflow.keras.models import Sequential\n",
        "from tensorflow.keras.layers import Dense\n",
        "\n",
        "def get_model():\n",
        "    model = Sequential()\n",
        "    model.add( Dense(128, activation='relu', input_shape = ( train_data.shape[1], )) )\n",
        "    model.add( Dense(128, activation='relu') )\n",
        "    model.add( Dense(128, activation='relu') )\n",
        "    model.add( Dense(128, activation='relu') )\n",
        "    model.add( Dense(128, activation='relu') )\n",
        "    model.add( Dense(128, activation='relu') )\n",
        "    model.add( Dense(1) )\n",
        "    return model\n",
        "model = get_model()\n",
        "\n"
      ],
      "execution_count": 127,
      "outputs": []
    },
    {
      "cell_type": "code",
      "metadata": {
        "id": "L6eWYJFDicVi",
        "colab": {
          "base_uri": "https://localhost:8080/"
        },
        "outputId": "c777d46a-4ff4-435f-ea50-742a9d233eae"
      },
      "source": [
        "# Print the model summary\n",
        "print(model.summary())\n"
      ],
      "execution_count": 128,
      "outputs": [
        {
          "output_type": "stream",
          "text": [
            "Model: \"sequential_25\"\n",
            "_________________________________________________________________\n",
            "Layer (type)                 Output Shape              Param #   \n",
            "=================================================================\n",
            "dense_157 (Dense)            (None, 128)               1408      \n",
            "_________________________________________________________________\n",
            "dense_158 (Dense)            (None, 128)               16512     \n",
            "_________________________________________________________________\n",
            "dense_159 (Dense)            (None, 128)               16512     \n",
            "_________________________________________________________________\n",
            "dense_160 (Dense)            (None, 128)               16512     \n",
            "_________________________________________________________________\n",
            "dense_161 (Dense)            (None, 128)               16512     \n",
            "_________________________________________________________________\n",
            "dense_162 (Dense)            (None, 128)               16512     \n",
            "_________________________________________________________________\n",
            "dense_163 (Dense)            (None, 1)                 129       \n",
            "=================================================================\n",
            "Total params: 84,097\n",
            "Trainable params: 84,097\n",
            "Non-trainable params: 0\n",
            "_________________________________________________________________\n",
            "None\n"
          ],
          "name": "stdout"
        }
      ]
    },
    {
      "cell_type": "code",
      "metadata": {
        "id": "utoxvublicVi"
      },
      "source": [
        "# Compile the model\n",
        "model.compile( optimizer= 'adam', loss='mae', metrics=['mae', 'mape'])\n"
      ],
      "execution_count": 129,
      "outputs": []
    },
    {
      "cell_type": "code",
      "metadata": {
        "id": "GSR7quIKicVi"
      },
      "source": [
        "# Train the model, with some of the data reserved for validation\n",
        "history =model.fit(train_data, train_targets, validation_split=0.15, batch_size=64, epochs = 100, verbose=False)\n"
      ],
      "execution_count": 130,
      "outputs": []
    },
    {
      "cell_type": "code",
      "metadata": {
        "id": "zDjRGlAsicVj",
        "colab": {
          "base_uri": "https://localhost:8080/"
        },
        "outputId": "868491de-70d4-4474-ce38-38171447c765"
      },
      "source": [
        "# Evaluate the model on the test set\n",
        "model.evaluate(test_data, test_targets)\n"
      ],
      "execution_count": 131,
      "outputs": [
        {
          "output_type": "stream",
          "text": [
            "2/2 [==============================] - 0s 7ms/step - loss: 0.7893 - mae: 0.7893 - mape: 1282.1791\n"
          ],
          "name": "stdout"
        },
        {
          "output_type": "execute_result",
          "data": {
            "text/plain": [
              "[0.7893036603927612, 0.7893036603927612, 1282.1790771484375]"
            ]
          },
          "metadata": {
            "tags": []
          },
          "execution_count": 131
        }
      ]
    },
    {
      "cell_type": "markdown",
      "metadata": {
        "id": "u0M_Ty_hicVj"
      },
      "source": [
        "#### Plot the learning curves"
      ]
    },
    {
      "cell_type": "code",
      "metadata": {
        "id": "wcayRcQmicVj"
      },
      "source": [
        "import matplotlib.pyplot as plt\n",
        "%matplotlib inline"
      ],
      "execution_count": 132,
      "outputs": []
    },
    {
      "cell_type": "code",
      "metadata": {
        "id": "yrA-W2ICicVj",
        "colab": {
          "base_uri": "https://localhost:8080/",
          "height": 295
        },
        "outputId": "f54f2571-c0f3-4063-ffca-55c49d3b6042"
      },
      "source": [
        "# Plot the training and validation loss\n",
        "\n",
        "plt.plot(history.history['loss'])\n",
        "plt.plot(history.history['val_loss'])\n",
        "plt.title('Loss vs. epochs')\n",
        "plt.ylabel('Loss')\n",
        "plt.xlabel('Epoch')\n",
        "plt.legend(['Training', 'Validation'], loc='upper right')\n",
        "plt.show()"
      ],
      "execution_count": 133,
      "outputs": [
        {
          "output_type": "display_data",
          "data": {
            "image/png": "[encoded data removed]",
            "text/plain": [
              "<Figure size 432x288 with 1 Axes>"
            ]
          },
          "metadata": {
            "tags": [],
            "needs_background": "light"
          }
        }
      ]
    },
    {
      "cell_type": "markdown",
      "metadata": {
        "id": "xeqDfj4HicVk"
      },
      "source": [
        "***\n",
        "<a id=\"coding_tutorial_2\"></a>\n",
        "## Model regularisation"
      ]
    },
    {
      "cell_type": "markdown",
      "metadata": {
        "id": "VOC2yVP_icVk"
      },
      "source": [
        "#### Adding regularisation with weight decay and dropout"
      ]
    },
    {
      "cell_type": "code",
      "metadata": {
        "id": "Ltqe-CpHicVk"
      },
      "source": [
        "from tensorflow.keras.layers import Dropout\n",
        "from tensorflow.keras import regularizers"
      ],
      "execution_count": 134,
      "outputs": []
    },
    {
      "cell_type": "code",
      "metadata": {
        "id": "9MiCAu6zicVk"
      },
      "source": [
        "def get_regularised_model(wd, rate):\n",
        "    model = Sequential([\n",
        "        Dense(128, activation=\"relu\", kernel_regularizer=regularizers.l2(wd), input_shape=(train_data.shape[1],)),\n",
        "        Dropout(rate),\n",
        "        Dense(128, activation=\"relu\", kernel_regularizer=regularizers.l2(wd)),\n",
        "        Dropout(rate),\n",
        "        Dense(128, activation=\"relu\", kernel_regularizer=regularizers.l2(wd)),\n",
        "        Dropout(rate),\n",
        "        Dense(128, activation=\"relu\", kernel_regularizer=regularizers.l2(wd)),\n",
        "        Dropout(rate),\n",
        "        Dense(128, activation=\"relu\", kernel_regularizer=regularizers.l2(wd)),\n",
        "        Dropout(rate),\n",
        "        Dense(128, activation=\"relu\", kernel_regularizer=regularizers.l2(wd)),\n",
        "        Dropout(rate),\n",
        "        Dense(1)\n",
        "    ])\n",
        "    return model"
      ],
      "execution_count": 135,
      "outputs": []
    },
    {
      "cell_type": "code",
      "metadata": {
        "id": "z6IyBfChicVl"
      },
      "source": [
        "# Re-build the model with weight decay and dropout layers\n",
        "model= get_regularised_model(1e-5,0.3)"
      ],
      "execution_count": 136,
      "outputs": []
    },
    {
      "cell_type": "code",
      "metadata": {
        "id": "-H3Sn29TicVl"
      },
      "source": [
        "# Compile the model\n",
        "model.compile(optimizer='adam', loss='mae', metrics=['mae'] )\n"
      ],
      "execution_count": 137,
      "outputs": []
    },
    {
      "cell_type": "code",
      "metadata": {
        "id": "OtLM-jJGicVl"
      },
      "source": [
        "# Train the model, with some of the data reserved for validation\n",
        "history = model.fit(train_data, train_targets, epochs=100,\n",
        "                    validation_split =0.15, batch_size = 64, verbose =False)\n"
      ],
      "execution_count": 138,
      "outputs": []
    },
    {
      "cell_type": "code",
      "metadata": {
        "id": "BIV1lXr3icVl",
        "colab": {
          "base_uri": "https://localhost:8080/"
        },
        "outputId": "e38c36c2-b4fe-4b68-d1c6-7b283363d10f"
      },
      "source": [
        "# Evaluate the model on the test set\n",
        "model.evaluate(test_data, test_targets)\n"
      ],
      "execution_count": 139,
      "outputs": [
        {
          "output_type": "stream",
          "text": [
            "2/2 [==============================] - 0s 7ms/step - loss: 0.6831 - mae: 0.6768\n"
          ],
          "name": "stdout"
        },
        {
          "output_type": "execute_result",
          "data": {
            "text/plain": [
              "[0.6831248998641968, 0.6767564415931702]"
            ]
          },
          "metadata": {
            "tags": []
          },
          "execution_count": 139
        }
      ]
    },
    {
      "cell_type": "markdown",
      "metadata": {
        "id": "JyCbDEoHicVm"
      },
      "source": [
        "#### Plot the learning curves"
      ]
    },
    {
      "cell_type": "code",
      "metadata": {
        "id": "7B9KCvNxicVm",
        "colab": {
          "base_uri": "https://localhost:8080/",
          "height": 295
        },
        "outputId": "e96c9957-05e2-48be-d137-114876bc340d"
      },
      "source": [
        "# Plot the training and validation loss\n",
        "\n",
        "import matplotlib.pyplot as plt\n",
        "\n",
        "plt.plot(history.history['loss'])\n",
        "plt.plot(history.history['val_loss'])\n",
        "plt.title('Loss vs. epochs')\n",
        "plt.ylabel('Loss')\n",
        "plt.xlabel('Epoch')\n",
        "plt.legend(['Training', 'Validation'], loc='upper right')\n",
        "plt.show()"
      ],
      "execution_count": 140,
      "outputs": [
        {
          "output_type": "display_data",
          "data": {
            "image/png": "[encoded data removed]",
            "text/plain": [
              "<Figure size 432x288 with 1 Axes>"
            ]
          },
          "metadata": {
            "tags": [],
            "needs_background": "light"
          }
        }
      ]
    },
    {
      "cell_type": "markdown",
      "metadata": {
        "id": "jVHPr0yVicVm"
      },
      "source": [
        "***\n",
        "<a id=\"coding_tutorial_3\"></a>\n",
        "## Introduction to callbacks"
      ]
    },
    {
      "cell_type": "markdown",
      "metadata": {
        "id": "8WT8tCSuicVm"
      },
      "source": [
        "#### Example training callback"
      ]
    },
    {
      "cell_type": "code",
      "metadata": {
        "id": "Jacw4TZhicVm"
      },
      "source": [
        "# Write a custom callback\n",
        "from tensorflow.keras.callbacks import Callback\n",
        "\n",
        "class TrainingCallbacks(Callback):\n",
        "    def on_train_begin(self, logs = None):\n",
        "        print(\"Starting training .....\")\n",
        "\n",
        "    def on_epoch_begin(self, epoch, logs = None):\n",
        "        print(f\"Starting epoch {epoch}\")\n",
        "\n",
        "    def on_train_batch_begin(self, batch, logs = None):\n",
        "        print(f\"Starting batch {batch}\")\n",
        "\n",
        "    def on_train_batch_end(self, batch, logs = None):\n",
        "        print(f\"finished batch {batch}\")\n",
        "    \n",
        "    def on_epoch_end(self, epoch, logs = None):\n",
        "        print(f\"Finshe epoch {epoch}\")\n",
        "\n",
        "    def on_train_end(self, logs = None):\n",
        "        print(\"Finished training .....\")\n",
        "\n",
        "\n",
        "class TestingCallbacks(Callback):\n",
        "    def on_test_begin(self, logs = None):\n",
        "        print(\"Starting testing .....\")\n",
        "\n",
        "    def on_test_batch_begin(self, batch, logs = None):\n",
        "        print(f\"Starting batch {batch}\")\n",
        "\n",
        "    def on_test_batch_end(self, batch, logs = None):\n",
        "        print(f\"finished batch {batch}\")\n",
        "    \n",
        "    def on_test_end(self, logs = None):\n",
        "        print(\"Finished testing .....\")\n",
        "\n",
        "class PredictionCallbacks(Callback):\n",
        "    def on_predict_begin(self, logs = None):\n",
        "        print(\"Starting predicting .....\")\n",
        "\n",
        "    def on_predict_batch_begin(self, batch, logs = None):\n",
        "        print(f\"Starting batch {batch}\")\n",
        "\n",
        "    def on_predict_batch_end(self, batch, logs = None):\n",
        "        print(f\"finished batch {batch}\")\n",
        "    \n",
        "    def on_predict_end(self, logs = None):\n",
        "        print(\"Finished predicting .....\")"
      ],
      "execution_count": 141,
      "outputs": []
    },
    {
      "cell_type": "code",
      "metadata": {
        "id": "b5w-_VLgicVn"
      },
      "source": [
        "# Re-build the model\n",
        "model = get_regularised_model(1e-9, 0.3)\n"
      ],
      "execution_count": 142,
      "outputs": []
    },
    {
      "cell_type": "code",
      "metadata": {
        "id": "HsT3qXhmicVn"
      },
      "source": [
        "# Compile the model\n",
        "model.compile( optimizer= 'adam', loss= 'mse')\n"
      ],
      "execution_count": 143,
      "outputs": []
    },
    {
      "cell_type": "markdown",
      "metadata": {
        "id": "zNyRaDv_icVn"
      },
      "source": [
        "#### Train the model with the callback"
      ]
    },
    {
      "cell_type": "code",
      "metadata": {
        "id": "nrLU8ZZLicVn",
        "colab": {
          "base_uri": "https://localhost:8080/"
        },
        "outputId": "4276f5ef-5ea1-47d1-f337-6bf590e3cebb"
      },
      "source": [
        "# Train the model, with some of the data reserved for validation\n",
        "history = model.fit(train_data, train_targets, epochs=3, batch_size=128, verbose=False, callbacks=[TrainingCallbacks()])\n"
      ],
      "execution_count": 144,
      "outputs": [
        {
          "output_type": "stream",
          "text": [
            "Starting training .....\n",
            "Starting epoch 0\n",
            "Starting batch 0\n",
            "finished batch 0\n",
            "Starting batch 1\n",
            "finished batch 1\n",
            "Starting batch 2\n",
            "finished batch 2\n",
            "Starting batch 3\n",
            "finished batch 3\n",
            "Finshe epoch 0\n",
            "Starting epoch 1\n",
            "Starting batch 0\n",
            "finished batch 0\n",
            "Starting batch 1\n",
            "finished batch 1\n",
            "Starting batch 2\n",
            "finished batch 2\n",
            "Starting batch 3\n",
            "finished batch 3\n",
            "Finshe epoch 1\n",
            "Starting epoch 2\n",
            "Starting batch 0\n",
            "finished batch 0\n",
            "Starting batch 1\n",
            "finished batch 1\n",
            "Starting batch 2\n",
            "finished batch 2\n",
            "Starting batch 3\n",
            "finished batch 3\n",
            "Finshe epoch 2\n",
            "Finished training .....\n"
          ],
          "name": "stdout"
        }
      ]
    },
    {
      "cell_type": "code",
      "metadata": {
        "id": "HvQBh6ZyicVn",
        "colab": {
          "base_uri": "https://localhost:8080/"
        },
        "outputId": "c061b0a6-3467-4d42-e2d9-50865b75038d"
      },
      "source": [
        "# Evaluate the model\n",
        "model.evaluate(test_data, test_targets, callbacks=[TestingCallbacks()])\n"
      ],
      "execution_count": 145,
      "outputs": [
        {
          "output_type": "stream",
          "text": [
            "Starting testing .....\n",
            "Starting batch 0\n",
            "1/2 [==============>...............] - ETA: 0s - loss: 1.0747finished batch 0\n",
            "Starting batch 1\n",
            "finished batch 1\n",
            "2/2 [==============================] - 0s 7ms/step - loss: 1.0275\n",
            "Finished testing .....\n"
          ],
          "name": "stdout"
        },
        {
          "output_type": "execute_result",
          "data": {
            "text/plain": [
              "1.0275177955627441"
            ]
          },
          "metadata": {
            "tags": []
          },
          "execution_count": 145
        }
      ]
    },
    {
      "cell_type": "code",
      "metadata": {
        "id": "OEZKAnlHicVn",
        "colab": {
          "base_uri": "https://localhost:8080/"
        },
        "outputId": "23d90afe-df92-4f2f-f948-6271e54b21e0"
      },
      "source": [
        "# Make predictions with the model\n",
        "model.predict(test_data, verbose=False, callbacks=[PredictionCallbacks()])\n"
      ],
      "execution_count": 146,
      "outputs": [
        {
          "output_type": "stream",
          "text": [
            "Starting predicting .....\n",
            "Starting batch 0\n",
            "finished batch 0\n",
            "Starting batch 1\n",
            "finished batch 1\n",
            "Finished predicting .....\n"
          ],
          "name": "stdout"
        },
        {
          "output_type": "execute_result",
          "data": {
            "text/plain": [
              "array([[-0.00505724],\n",
              "       [-0.02971398],\n",
              "       [ 0.02261007],\n",
              "       [ 0.02897156],\n",
              "       [-0.02624836],\n",
              "       [-0.03880414],\n",
              "       [-0.00548938],\n",
              "       [ 0.04019446],\n",
              "       [-0.06387947],\n",
              "       [-0.05938331],\n",
              "       [ 0.03283057],\n",
              "       [ 0.02367973],\n",
              "       [-0.04518079],\n",
              "       [ 0.0185403 ],\n",
              "       [ 0.00236097],\n",
              "       [-0.019371  ],\n",
              "       [ 0.02672976],\n",
              "       [ 0.01794016],\n",
              "       [ 0.01566404],\n",
              "       [ 0.02578042],\n",
              "       [-0.02881988],\n",
              "       [-0.0138903 ],\n",
              "       [-0.0365619 ],\n",
              "       [-0.00646863],\n",
              "       [ 0.00225403],\n",
              "       [-0.01865503],\n",
              "       [-0.04709233],\n",
              "       [-0.06053998],\n",
              "       [-0.00734899],\n",
              "       [-0.03532501],\n",
              "       [ 0.00858461],\n",
              "       [-0.01579474],\n",
              "       [-0.06190869],\n",
              "       [ 0.02593108],\n",
              "       [ 0.04289319],\n",
              "       [-0.02185944],\n",
              "       [-0.05805627],\n",
              "       [ 0.03239252],\n",
              "       [-0.00658759],\n",
              "       [ 0.01374688],\n",
              "       [-0.01794496],\n",
              "       [ 0.00118301],\n",
              "       [-0.05790754],\n",
              "       [-0.03674304],\n",
              "       [ 0.00243218]], dtype=float32)"
            ]
          },
          "metadata": {
            "tags": []
          },
          "execution_count": 146
        }
      ]
    },
    {
      "cell_type": "markdown",
      "metadata": {
        "id": "Z49eHovWicVo"
      },
      "source": [
        "***\n",
        "<a id=\"coding_tutorial_4\"></a>\n",
        "## Early stopping / patience"
      ]
    },
    {
      "cell_type": "markdown",
      "metadata": {
        "id": "e8SFt1apicVo"
      },
      "source": [
        "#### Re-train the models with early stopping"
      ]
    },
    {
      "cell_type": "code",
      "metadata": {
        "id": "t5dae3k7icVo"
      },
      "source": [
        "# Re-train the unregularised model\n",
        "unregularised_model = get_model()\n",
        "unregularised_model.compile(optimizer='adam', loss = 'mse')\n",
        "unreg_history = unregularised_model.fit(train_data, train_targets,\n",
        "                                        validation_split = 0.15, batch_size = 64,\n",
        "                                        epochs = 100,\n",
        "                                        verbose = False)\n"
      ],
      "execution_count": 165,
      "outputs": []
    },
    {
      "cell_type": "code",
      "metadata": {
        "id": "oYpbiaq7icVo",
        "colab": {
          "base_uri": "https://localhost:8080/"
        },
        "outputId": "a77f4340-e4ec-46a5-d192-1b6f213c4d32"
      },
      "source": [
        "# Evaluate the model on the test set\n",
        "unregularised_model.evaluate(test_data, test_targets, verbose=0)\n"
      ],
      "execution_count": 166,
      "outputs": [
        {
          "output_type": "execute_result",
          "data": {
            "text/plain": [
              "0.9982702732086182"
            ]
          },
          "metadata": {
            "tags": []
          },
          "execution_count": 166
        }
      ]
    },
    {
      "cell_type": "code",
      "metadata": {
        "id": "Q0IFYVxaicVp"
      },
      "source": [
        "# Re-train the regularised model\n",
        "regularised_model = get_regularised_model(1e-8, 0.2)\n",
        "regularised_model.compile( optimizer = 'adam', loss = 'mse')\n",
        "reg_history = regularised_model.fit(train_data, train_targets, epochs=100,\n",
        "                                    validation_split = 0.15, batch_size = 64,\n",
        "                                    verbose=False, callbacks=[tf.keras.callbacks.EarlyStopping(patience=10)])"
      ],
      "execution_count": 162,
      "outputs": []
    },
    {
      "cell_type": "code",
      "metadata": {
        "id": "wyXd-d01icVp",
        "colab": {
          "base_uri": "https://localhost:8080/"
        },
        "outputId": "60903839-04dc-48c1-ebe8-6085cff9a9ae"
      },
      "source": [
        "# Evaluate the model on the test set\n",
        "regularised_model.evaluate(test_data, test_targets, verbose=0)\n"
      ],
      "execution_count": 163,
      "outputs": [
        {
          "output_type": "execute_result",
          "data": {
            "text/plain": [
              "0.5532736778259277"
            ]
          },
          "metadata": {
            "tags": []
          },
          "execution_count": 163
        }
      ]
    },
    {
      "cell_type": "markdown",
      "metadata": {
        "id": "xpGLzoyuicVp"
      },
      "source": [
        "#### Plot the learning curves"
      ]
    },
    {
      "cell_type": "code",
      "metadata": {
        "id": "1LWCftGCicVp",
        "colab": {
          "base_uri": "https://localhost:8080/",
          "height": 350
        },
        "outputId": "ff38c31a-d72c-437b-cec4-c8c83a8ae526"
      },
      "source": [
        "# Plot the training and validation loss\n",
        "\n",
        "import matplotlib.pyplot as plt\n",
        "\n",
        "fig = plt.figure(figsize=(12, 5))\n",
        "\n",
        "fig.add_subplot(121)\n",
        "\n",
        "plt.plot(unreg_history.history['loss'])\n",
        "plt.plot(unreg_history.history['val_loss'])\n",
        "plt.title('Unregularised model: loss vs. epochs')\n",
        "plt.ylabel('Loss')\n",
        "plt.xlabel('Epoch')\n",
        "plt.legend(['Training', 'Validation'], loc='upper right')\n",
        "\n",
        "fig.add_subplot(122)\n",
        "\n",
        "plt.plot(reg_history.history['loss'])\n",
        "plt.plot(reg_history.history['val_loss'])\n",
        "plt.title('Regularised model: loss vs. epochs')\n",
        "plt.ylabel('Loss')\n",
        "plt.xlabel('Epoch')\n",
        "plt.legend(['Training', 'Validation'], loc='upper right')\n",
        "\n",
        "plt.show()"
      ],
      "execution_count": 167,
      "outputs": [
        {
          "output_type": "display_data",
          "data": {
            "image/png": "[encoded data removed]",
            "text/plain": [
              "<Figure size 864x360 with 2 Axes>"
            ]
          },
          "metadata": {
            "tags": [],
            "needs_background": "light"
          }
        }
      ]
    },
    {
      "cell_type": "code",
      "metadata": {
        "id": "JJz2TX18M6X7"
      },
      "source": [
        ""
      ],
      "execution_count": null,
      "outputs": []
    }
  ]
}