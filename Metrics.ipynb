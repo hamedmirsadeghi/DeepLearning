{
  "nbformat": 4,
  "nbformat_minor": 0,
  "metadata": {
    "kernelspec": {
      "display_name": "Python 3",
      "language": "python",
      "name": "python3"
    },
    "language_info": {
      "codemirror_mode": {
        "name": "ipython",
        "version": 3
      },
      "file_extension": ".py",
      "mimetype": "text/x-python",
      "name": "python",
      "nbconvert_exporter": "python",
      "pygments_lexer": "ipython3",
      "version": "3.7.1"
    },
    "colab": {
      "name": "Metrics.ipynb",
      "provenance": [],
      "include_colab_link": true
    }
  },
  "cells": [
    {
      "cell_type": "markdown",
      "metadata": {
        "id": "view-in-github",
        "colab_type": "text"
      },
      "source": [
        "<a href=\"https://colab.research.google.com/github/hamedmirsadeghi/DeepLearning/blob/main/Metrics.ipynb\" target=\"_parent\"><img src=\"https://colab.research.google.com/assets/colab-badge.svg\" alt=\"Open In Colab\"/></a>"
      ]
    },
    {
      "cell_type": "markdown",
      "metadata": {
        "id": "Px6mz5rHuDJa"
      },
      "source": [
        "# Metrics in Keras"
      ]
    },
    {
      "cell_type": "markdown",
      "metadata": {
        "id": "qOsqgxLNuDJd"
      },
      "source": [
        "In this reading we will be exploring the different metrics in Keras that may be used to judge the performance of a model."
      ]
    },
    {
      "cell_type": "code",
      "metadata": {
        "id": "vHyblt8luDJd",
        "outputId": "d706dace-bdce-49c7-a96d-7a59e4f4c376",
        "colab": {
          "base_uri": "https://localhost:8080/"
        }
      },
      "source": [
        "import tensorflow as tf\n",
        "from tensorflow.keras.models import Sequential\n",
        "from tensorflow.keras.layers import Dense, Flatten\n",
        "import tensorflow.keras.backend as K\n",
        "print(tf.__version__)"
      ],
      "execution_count": 3,
      "outputs": [
        {
          "output_type": "stream",
          "text": [
            "2.5.0\n"
          ],
          "name": "stdout"
        }
      ]
    },
    {
      "cell_type": "markdown",
      "metadata": {
        "id": "NcNudNmGuDJe"
      },
      "source": [
        "One of the most common metrics used for classification problems in Keras is `'accuracy'`. \n",
        "\n",
        "We will begin with a simple example of a model that uses accuracy as a metric."
      ]
    },
    {
      "cell_type": "code",
      "metadata": {
        "id": "riZk8FKluDJe"
      },
      "source": [
        "# Build the model\n",
        "\n",
        "model = Sequential([\n",
        "  Flatten(input_shape=(28,28)),\n",
        "  Dense(32, activation='relu'),\n",
        "  Dense(32, activation='tanh'),\n",
        "  Dense(10, activation='softmax'),\n",
        "])"
      ],
      "execution_count": 4,
      "outputs": []
    },
    {
      "cell_type": "code",
      "metadata": {
        "id": "zBD_tEU-uDJf"
      },
      "source": [
        "# Compile the model\n",
        "\n",
        "model.compile(optimizer='adam',\n",
        "              loss='sparse_categorical_crossentropy',\n",
        "              metrics=['accuracy'])"
      ],
      "execution_count": 8,
      "outputs": []
    },
    {
      "cell_type": "markdown",
      "metadata": {
        "id": "2Qp7i7-KuDJf"
      },
      "source": [
        "We now have a model that uses accuracy as a metric to judge its performance.\n",
        "\n",
        "But how is this metric actually calculated? We will break our discussion into two cases.\n",
        "\n",
        "\n",
        "MY NOTE >>>>>>>>>>>>>>>>>\n",
        "\n",
        "categorical_crossentropy (cce) produces a one-hot array containing the probable match for each category,\n",
        "sparse_categorical_crossentropy (scce) produces a category index of the most likely matching category.\n",
        "Consider a classification problem with 5 categories (or classes).\n",
        "\n",
        "In the case of cce, the one-hot target may be [0, 1, 0, 0, 0] and the model may predict [.2, .5, .1, .1, .1] (probably right)\n",
        "\n",
        "In the case of scce, the target index may be [1] and the model may predict: [.5].\n",
        "\n",
        "Consider now a classification problem with 3 classes.\n",
        "\n",
        "In the case of cce, the one-hot target might be [0, 0, 1] and the model may predict [.5, .1, .4] (probably inaccurate, given that it gives more probability to the first class)\n",
        "In the case of scce, the target index might be [0], and the model may predict [.5]\n",
        "Many categorical models produce scce output because you save space, but lose A LOT of information (for example, in the 2nd example, index 2 was also very close.) I generally prefer cce output for model reliability.\n",
        "\n",
        "There are a number of situations to use scce, including:\n",
        "\n",
        "when your classes are mutually exclusive, i.e. you don't care at all about other close-enough predictions,\n",
        "the number of categories is large to the prediction output becomes overwhelming.\n"
      ]
    },
    {
      "cell_type": "markdown",
      "metadata": {
        "id": "EDPus47AuDJg"
      },
      "source": [
        "### Case 1 - Binary Classification with sigmoid activation function\n",
        "Suppose we are training a model for a binary classification problem with a sigmoid activation function (softmax activation functions are covered in the next case). \n",
        "\n",
        "Given a training example with input $x^{(i)}$, the model will output a float between 0 and 1. Based on whether this float is less than or greater than our \"threshold\" (which by default is set at 0.5), we round the float to get the predicted classification $y_{pred}$ from the model.\n",
        "\n",
        "The accuracy metric compares the value of $y_{pred}$ on each training example with the true output, the one-hot coded vector $y_{true}^{(i)}$ from our training data.\n",
        "\n",
        "Let $$\\delta(y_{pred}^{(i)},y_{true}^{(i)}) = \\begin{cases} 1 & y_{pred}=y_{true}\\\\\n",
        "0 & y_{pred}\\neq y_{true} \\end{cases}$$\n",
        "\n",
        "The accuracy metric  computes the mean of $\\delta(y_{pred}^{(i)},y_{true}^{(i)})$ over all training examples.\n",
        "\n",
        "$$ accuracy = \\frac{1}{N} \\sum_{i=1}^N \\delta(y_{pred}^{(i)},y_{true}^{(i)}) $$\n",
        "\n",
        "This is implemented in the backend of Keras as follows. \n",
        "Note: We have set $y_{true}$ and $y_{pred}$ ourselves for the purposes of this example."
      ]
    },
    {
      "cell_type": "code",
      "metadata": {
        "id": "MY3qh3cWuDJg",
        "outputId": "f9d07715-debc-4379-e0dd-5537d5361627",
        "colab": {
          "base_uri": "https://localhost:8080/"
        }
      },
      "source": [
        "# Sigmoid activation function\n",
        "\n",
        "y_true = tf.constant([0.0,1.0,1.0])\n",
        "y_pred = tf.constant([0.4,0.8, 0.3])\n",
        "accuracy = K.mean(K.equal(y_true, K.round(y_pred)))\n",
        "accuracy"
      ],
      "execution_count": 7,
      "outputs": [
        {
          "output_type": "execute_result",
          "data": {
            "text/plain": [
              "<tf.Tensor: shape=(), dtype=float32, numpy=0.6666667>"
            ]
          },
          "metadata": {
            "tags": []
          },
          "execution_count": 7
        }
      ]
    },
    {
      "cell_type": "markdown",
      "metadata": {
        "id": "8AMfwbdsuDJh"
      },
      "source": [
        "### Case 2 - Categorical Classification\n",
        "Now suppose we are training a model for a classification problem which should sort data into $m>2$ different classes using a softmax activation function in the last layer.\n",
        "\n",
        "Given a training example with input $x^{(i)}$, the model will output a tensor of probabilities $p_1, p_2, \\dots p_m$, giving the likelihood (according to the model) that $x^{(i)}$ falls into each class.\n",
        "\n",
        "The accuracy metric works by determining the largest argument in the $y_{pred}^{(i)}$ tensor, and compares its index to the index of the maximum value of $y_{true}^{(i)}$ to determine $\\delta(y_{pred}^{(i)},y_{true}^{(i)})$. It then computes the accuracy in the same way as for the binary classification case.\n",
        "\n",
        "$$ accuracy = \\frac{1}{N} \\sum_{i=1}^N \\delta(y_{pred}^{(i)},y_{true}^{(i)}) $$\n",
        "\n",
        "In the backend of Keras, the accuracy metric is implemented slightly differently depending on whether we have a binary classification problem ($m=2$) or a categorical classifcation problem. Note that the accuracy for binary classification problems is the same, no matter if we use a sigmoid or softmax activation function to obtain the output.\n"
      ]
    },
    {
      "cell_type": "code",
      "metadata": {
        "id": "GgMv_u_UuDJi"
      },
      "source": [
        "# Binary classification with softmax\n",
        "\n",
        "y_true = tf.constant([[0.0,1.0],[1.0,0.0],[1.0,0.0],[0.0,1.0]])\n",
        "y_pred = tf.constant([[0.4,0.6], [0.3,0.7], [0.05,0.95],[0.33,0.67]])\n",
        "accuracy =K.mean(K.equal(y_true, K.round(y_pred)))\n",
        "accuracy"
      ],
      "execution_count": null,
      "outputs": []
    },
    {
      "cell_type": "code",
      "metadata": {
        "id": "PwIY7k9GuDJj"
      },
      "source": [
        "# Categorical classification with m>2\n",
        "\n",
        "y_true = tf.constant([[0.0,1.0,0.0,0.0],[1.0,0.0,0.0,0.0],[0.0,0.0,1.0,0.0]])\n",
        "y_pred = tf.constant([[0.4,0.6,0.0,0.0], [0.3,0.2,0.1,0.4], [0.05,0.35,0.5,0.1]])\n",
        "accuracy = K.mean(K.equal(K.argmax(y_true, axis=-1), K.argmax(y_pred, axis=-1)))\n",
        "accuracy"
      ],
      "execution_count": null,
      "outputs": []
    },
    {
      "cell_type": "markdown",
      "metadata": {
        "id": "QZ7HgpV2uDJk"
      },
      "source": [
        "## Other examples of metrics\n",
        "We will now look at some other metrics in Keras. A full list is available at <https://keras.io/metrics/>."
      ]
    },
    {
      "cell_type": "markdown",
      "metadata": {
        "id": "Tgi8ECjruDJk"
      },
      "source": [
        "### Binary accuracy and categorical accuracy\n",
        "The `binary_accuracy` and `categorical_accuracy` metrics are, by default, identical to the Case 1 and 2 respectively of the `accuracy` metric explained above. \n",
        "\n",
        "However, using `binary_accuracy` allows you to use the optional `threshold` argument, which sets the minimum value of $y_{pred}$ which will be rounded to 1. As mentioned above, it is set as `threshold=0.5` by default.\n",
        "\n",
        "Below we give some examples of how to compile a model with `binary_accuracy` with and without a threshold."
      ]
    },
    {
      "cell_type": "code",
      "metadata": {
        "id": "cko9moUZuDJl"
      },
      "source": [
        "# Compile the model with default threshold (=0.5)\n",
        "\n",
        "model.compile(optimizer='adam',\n",
        "              loss='sparse_categorical_crossentropy',\n",
        "              metrics=['binary_accuracy'])"
      ],
      "execution_count": 9,
      "outputs": []
    },
    {
      "cell_type": "code",
      "metadata": {
        "id": "4edcXnWHuDJm"
      },
      "source": [
        "# The threshold can be specified as follows\n",
        "\n",
        "model.compile(optimizer='adam',\n",
        "              loss='sparse_categorical_crossentropy',\n",
        "              metrics=[tf.keras.metrics.BinaryAccuracy(threshold=0.5)])"
      ],
      "execution_count": 10,
      "outputs": []
    },
    {
      "cell_type": "markdown",
      "metadata": {
        "id": "a7hJex1VuDJm"
      },
      "source": [
        "### Sparse categorical accuracy\n",
        "\n",
        "This is a very similar metric to categorical accuracy with one major difference - the label $y_{true}$ of each training example is not expected to be a one-hot encoded vector, but to be a tensor consisting of a single integer. This integer is then compared to the index of the maximum argument of $y_{pred}$ to determine $\\delta(y_{pred}^{(i)},y_{true}^{(i)})$."
      ]
    },
    {
      "cell_type": "code",
      "metadata": {
        "id": "qbPxxUsbuDJm"
      },
      "source": [
        "#Two examples of compiling a model with \n",
        "#a sparse categorical accuracy metric.\n",
        "model.compile(optimizer='adam',\n",
        "              loss='sparse_categorical_crossentropy',\n",
        "              metrics=[\"sparse_categorical_accuracy\"])\n",
        "\n",
        "model.compile(optimizer='adam',\n",
        "              loss='sparse_categorical_crossentropy',\n",
        "              metrics=[tf.keras.metrics.SparseCategoricalAccuracy()])"
      ],
      "execution_count": 16,
      "outputs": []
    },
    {
      "cell_type": "markdown",
      "metadata": {
        "id": "-gNAIIozuDJn"
      },
      "source": [
        "### (Sparse) Top $k$-categorical accuracy \n",
        "In top $k$-categorical accuracy, instead of computing how often the model correctly predicts the label of a training example, the metric computes how often the model has $y_{true}$ in the top $k$ of its predictions. By default, $k=5$.\n",
        "\n",
        "As before, the main difference between top $k$-categorical accuracy and its sparse version is that the former assumes $y_{true}$ is a one-hot encoded vector, whereas the sparse version assumes $y_{true}$ is an integer."
      ]
    },
    {
      "cell_type": "code",
      "metadata": {
        "id": "L7N69G2muDJn"
      },
      "source": [
        "# Compile a model with a top-k categorical accuracy metric with default k (=5)\n",
        "\n",
        "model.compile(optimizer='adam',\n",
        "              loss='sparse_categorical_crossentropy',\n",
        "              metrics=[\"top_k_categorical_accuracy\"])"
      ],
      "execution_count": 18,
      "outputs": []
    },
    {
      "cell_type": "code",
      "metadata": {
        "id": "6Cadx7PXuDJn"
      },
      "source": [
        "# Specify k instead with the sparse top-k categorical accuracy\n",
        "\n",
        "model.compile(optimizer='adam',\n",
        "              loss='sparse_categorical_crossentropy',\n",
        "              metrics=[tf.keras.metrics.SparseTopKCategoricalAccuracy(k=3)])"
      ],
      "execution_count": 19,
      "outputs": []
    },
    {
      "cell_type": "markdown",
      "metadata": {
        "id": "VFw_sFZfuDJo"
      },
      "source": [
        "## Custom metrics\n",
        "It is also possible to define your own custom metric in Keras.\n",
        "You will need to make sure that your metric takes in (at least) two arguments called `y_true` and `y_pred` and then output a single tensor value."
      ]
    },
    {
      "cell_type": "code",
      "metadata": {
        "id": "FSBduNBNuDJo"
      },
      "source": [
        "# Define a custom metric\n",
        "\n",
        "def mean_pred(y_true, y_pred):\n",
        "    return K.mean(y_pred)"
      ],
      "execution_count": null,
      "outputs": []
    },
    {
      "cell_type": "markdown",
      "metadata": {
        "id": "M3TyFplfuDJo"
      },
      "source": [
        "We can then use this metric when we compile our model as follows."
      ]
    },
    {
      "cell_type": "code",
      "metadata": {
        "id": "SFUua1oluDJp"
      },
      "source": [
        "# Specify k instead with the sparse top-k categorical accuracy\n",
        "\n",
        "model.compile(optimizer='adam',\n",
        "              loss='sparse_categorical_crossentropy',\n",
        "              metrics=[mean_pred])"
      ],
      "execution_count": null,
      "outputs": []
    },
    {
      "cell_type": "markdown",
      "metadata": {
        "id": "TwBo5Sc2uDJp"
      },
      "source": [
        "## Multiple metrics\n",
        "Finally, it is possible to use multiple metrics to judge the performance of your model. \n",
        "\n",
        "\n",
        "Here's an example:"
      ]
    },
    {
      "cell_type": "code",
      "metadata": {
        "id": "NT4hXaAHuDJp"
      },
      "source": [
        "model.compile(optimizer='adam',\n",
        "              loss='sparse_categorical_crossentropy',\n",
        "              metrics=[mean_pred, \"accuracy\",tf.keras.metrics.SparseTopKCategoricalAccuracy(k=3)])"
      ],
      "execution_count": null,
      "outputs": []
    },
    {
      "cell_type": "markdown",
      "metadata": {
        "id": "cXffR4equDJq"
      },
      "source": [
        "### Sources and Further Reading\n",
        "* The metrics page on the Keras website: https://keras.io/metrics/\n",
        "* The source code for the metrics: https://github.com/keras-team/keras/blob/master/keras/metrics.py\n"
      ]
    }
  ]
}